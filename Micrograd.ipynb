{
  "nbformat": 4,
  "nbformat_minor": 0,
  "metadata": {
    "colab": {
      "provenance": [],
      "authorship_tag": "ABX9TyP046K6vvmcm/JHm4QsZ+rc",
      "include_colab_link": true
    },
    "kernelspec": {
      "name": "python3",
      "display_name": "Python 3"
    },
    "language_info": {
      "name": "python"
    }
  },
  "cells": [
    {
      "cell_type": "markdown",
      "metadata": {
        "id": "view-in-github",
        "colab_type": "text"
      },
      "source": [
        "<a href=\"https://colab.research.google.com/github/ammarvellous/Autograd/blob/main/Micrograd.ipynb\" target=\"_parent\"><img src=\"https://colab.research.google.com/assets/colab-badge.svg\" alt=\"Open In Colab\"/></a>"
      ]
    },
    {
      "cell_type": "code",
      "execution_count": null,
      "metadata": {
        "id": "TGTbOw5kXvuK"
      },
      "outputs": [],
      "source": [
        "import math\n",
        "import numpy as np\n",
        "import matplotlib.pyplot as plt\n",
        "%matplotlib inline"
      ]
    },
    {
      "cell_type": "code",
      "source": [
        "def f(x):\n",
        "  return 3*x**2 - 4*x +5"
      ],
      "metadata": {
        "id": "-lU7nJzkFwVN"
      },
      "execution_count": null,
      "outputs": []
    },
    {
      "cell_type": "code",
      "source": [
        "f(3.0)"
      ],
      "metadata": {
        "id": "T_Kdlbf2F1FC"
      },
      "execution_count": null,
      "outputs": []
    },
    {
      "cell_type": "code",
      "source": [
        "xs = np.arange(-5, 5, 0.25)\n",
        "ys = f(xs)\n",
        "plt.plot(xs, ys)"
      ],
      "metadata": {
        "id": "rAisWg0oF38H"
      },
      "execution_count": null,
      "outputs": []
    },
    {
      "cell_type": "code",
      "source": [
        "h = 0.000000001\n",
        "x = 2/3\n",
        "(f(x+h)-f(x))/h"
      ],
      "metadata": {
        "id": "8dspPUkbF9EC"
      },
      "execution_count": null,
      "outputs": []
    },
    {
      "cell_type": "code",
      "source": [
        "a = 2.0\n",
        "b = -3.0\n",
        "c = 10.0\n",
        "d = a*b+c\n",
        "print(d)"
      ],
      "metadata": {
        "id": "x2O3VvDaGbAm"
      },
      "execution_count": null,
      "outputs": []
    },
    {
      "cell_type": "code",
      "source": [
        "h = 0.00001\n",
        "\n",
        "a = 2.0\n",
        "b = -3.0\n",
        "c = 10.0\n",
        "\n",
        "d1 = a*b+c\n",
        "c+=h\n",
        "d2 = a*b+c\n",
        "\n",
        "print(d1)\n",
        "print(d2)\n",
        "print((d2-d1)/h)"
      ],
      "metadata": {
        "id": "Zok7VDI8HCa8"
      },
      "execution_count": null,
      "outputs": []
    },
    {
      "cell_type": "code",
      "source": [
        "class Value:\n",
        "  def __init__(self, data, _children=(), _op='', label=''):\n",
        "    self.data = data\n",
        "    self.grad = 0.0\n",
        "    self._backward = lambda: None\n",
        "    self._prev = set(_children)\n",
        "    self._op = _op\n",
        "    self.label = label\n",
        "\n",
        "  def __repr__(self):\n",
        "    return f\"Value(data={self.data}, grad={self.grad})\"\n",
        "\n",
        "  def __add__(self, other):\n",
        "    other = other if isinstance(other, Value) else Value(other)\n",
        "    out =  Value(self.data+other.data, (self, other), '+')\n",
        "    def _backward():\n",
        "      self.grad += 1.0*out.grad\n",
        "      other.grad += 1.0*out.grad\n",
        "\n",
        "    out._backward = _backward\n",
        "    return out\n",
        "\n",
        "  def __neg__(self):\n",
        "    return self*-1\n",
        "\n",
        "  def __sub__(self, other):\n",
        "    return self + (-1*other)\n",
        "\n",
        "  def __radd__(self, other):\n",
        "    return self+other\n",
        "\n",
        "  def __mul__(self, other):\n",
        "    other = other if isinstance(other, Value) else Value(other)\n",
        "    out = Value(self.data*other.data, (self, other), '*')\n",
        "    def _backward():\n",
        "      self.grad += other.data * out.grad\n",
        "      other.grad += self.data * out.grad\n",
        "\n",
        "    out._backward = _backward\n",
        "    return out\n",
        "\n",
        "  def __pow__(self, other):\n",
        "    assert isinstance(other, (int, float))\n",
        "    out = Value(self.data**other, (self, ), f'**{other}')\n",
        "\n",
        "    def _backward():\n",
        "      self.grad += other * (self.data ** (other-1)) * out.grad\n",
        "    out._backward = _backward\n",
        "    return out\n",
        "\n",
        "  def __rmul__(self, other):\n",
        "    return self*other\n",
        "\n",
        "  def __truediv__(self, other):\n",
        "    return self * other**-1\n",
        "\n",
        "  def tanh(self):\n",
        "    n = self.data\n",
        "    t = ((math.exp(2*n) - 1)/(math.exp(2*n)+1))\n",
        "    out = Value(t, (self, ), 'tanh')\n",
        "\n",
        "    def _backward():\n",
        "      self.grad += (1-t**2)* out.grad\n",
        "\n",
        "    out._backward = _backward\n",
        "    return out\n",
        "\n",
        "  def exp(self):\n",
        "    x = self.data\n",
        "    out = Value(math.exp(x), (self, ), 'exp')\n",
        "\n",
        "    def _backward():\n",
        "      self.grad += out.data * out.grad # Changed from = to +=\n",
        "    out._backward = _backward\n",
        "\n",
        "    return out\n",
        "\n",
        "  def backward(self):\n",
        "    topo = []\n",
        "    visited = set()\n",
        "    def build_topo(v):\n",
        "      if v not in visited:\n",
        "        visited.add(v)\n",
        "        for child in v._prev:\n",
        "          build_topo(child)\n",
        "        topo.append(v)\n",
        "    build_topo(self)\n",
        "\n",
        "    self.grad = 1.0\n",
        "    for node in reversed(topo):\n",
        "        node._backward()"
      ],
      "metadata": {
        "id": "qp7SuAigHjVI"
      },
      "execution_count": 2,
      "outputs": []
    },
    {
      "cell_type": "code",
      "source": [
        "a = Value(2.0)\n",
        "b = Value(4.0)\n",
        "-b"
      ],
      "metadata": {
        "id": "biGKvhstC8yo"
      },
      "execution_count": null,
      "outputs": []
    },
    {
      "cell_type": "code",
      "source": [
        "a = Value(2.0, label = 'a')\n",
        "b = Value(-3.0, label = 'b')\n",
        "c = Value(10.0, label = 'c')\n",
        "e = a*b; e.label = 'e'\n",
        "d = e+c; d.label = 'd'\n",
        "f = Value(-2.0, label='f')\n",
        "l = d+f; l.label = 'l'\n",
        "\n",
        "d"
      ],
      "metadata": {
        "id": "ICQLJhMfgEp4"
      },
      "execution_count": null,
      "outputs": []
    },
    {
      "cell_type": "code",
      "metadata": {
        "id": "87aaf48b"
      },
      "source": [
        "from graphviz import Digraph\n",
        "\n",
        "def trace(root):\n",
        "  # builds a set of all nodes and edges in a graph\n",
        "  nodes, edges = set(), set()\n",
        "  def build(v):\n",
        "    if v not in nodes:\n",
        "      nodes.add(v)\n",
        "    for child in v._prev:\n",
        "      edges.add((child, v))\n",
        "      build(child)\n",
        "  build(root)\n",
        "  return nodes, edges\n",
        "\n",
        "def draw_dot(root):\n",
        "  dot = Digraph(format='svg', graph_attr={'rankdir': 'TB'}) # Changed rankdir to 'TB' for top-to-bottom layout\n",
        "\n",
        "  nodes, edges = trace(root)\n",
        "  for n in nodes:\n",
        "    uid = str(id(n))\n",
        "    # for any value in the graph, create a rectangular node for it\n",
        "    dot.node(name = uid, label = \"{ %s | data %.4f | grad %.4f }\" % (n.label, n.data, n.grad), shape='record')\n",
        "    if n._op:\n",
        "      # if this value is a result of some operation, create an op node for it\n",
        "      dot.node(name = uid + n._op, label = n._op)\n",
        "      # and connect this op node to the value node\n",
        "      dot.edge(uid + n._op, uid)\n",
        "\n",
        "  for n1, n2 in edges:\n",
        "    # connect n1 to the op node of n2\n",
        "    dot.edge(str(id(n1)), str(id(n2)) + n2._op)\n",
        "\n",
        "  return dot"
      ],
      "execution_count": 3,
      "outputs": []
    },
    {
      "cell_type": "code",
      "metadata": {
        "id": "79ed8e31"
      },
      "source": [
        "draw_dot(l)"
      ],
      "execution_count": null,
      "outputs": []
    },
    {
      "cell_type": "code",
      "source": [
        "l.backward()"
      ],
      "metadata": {
        "id": "O1uRMjqD-HoR"
      },
      "execution_count": null,
      "outputs": []
    },
    {
      "cell_type": "code",
      "source": [
        "l.grad = 1\n",
        "d.grad = f.data\n",
        "f.grad = d.data\n",
        "c.grad = d.grad*1\n",
        "e.grad = d.grad*1\n",
        "a.grad = e.grad*b.data\n",
        "b.grad = e.grad*a.data"
      ],
      "metadata": {
        "id": "Zyj3S3nCI1WU"
      },
      "execution_count": null,
      "outputs": []
    },
    {
      "cell_type": "code",
      "source": [
        "x1 = Value(2.0, label = 'x1')\n",
        "x2 = Value(0.0, label = 'x2')\n",
        "\n",
        "w1 = Value(-3.0, label='w1')\n",
        "w2 = Value(1.0, label='w2')\n",
        "b = Value(6.8813735870195432, label='b')\n",
        "\n",
        "x1w1 = x1*w1; x1w1.label='x1*w1'\n",
        "x2w2 = x2*w2; x2w2.label='x2*w2'\n",
        "x1w1x2w2 = x1w1 + x2w2; x1w1x2w2.label='x1*w1 + x2*w2'\n",
        "n = x1w1x2w2 + b; n.label = 'n'\n",
        "o = n.tanh(); o.label = 'output'"
      ],
      "metadata": {
        "id": "WFA1xpTGJaJV"
      },
      "execution_count": 110,
      "outputs": []
    },
    {
      "cell_type": "code",
      "source": [
        "draw_dot(o)"
      ],
      "metadata": {
        "colab": {
          "base_uri": "https://localhost:8080/",
          "height": 1000
        },
        "id": "0gl8ECLVJnaT",
        "outputId": "a93fdf7d-a55b-4302-e069-20a857332556"
      },
      "execution_count": 113,
      "outputs": [
        {
          "output_type": "execute_result",
          "data": {
            "image/svg+xml": "<?xml version=\"1.0\" encoding=\"UTF-8\" standalone=\"no\"?>\n<!DOCTYPE svg PUBLIC \"-//W3C//DTD SVG 1.1//EN\"\n \"http://www.w3.org/Graphics/SVG/1.1/DTD/svg11.dtd\">\n<!-- Generated by graphviz version 2.43.0 (0)\n -->\n<!-- Title: %3 Pages: 1 -->\n<svg width=\"398pt\" height=\"790pt\"\n viewBox=\"0.00 0.00 397.50 790.00\" xmlns=\"http://www.w3.org/2000/svg\" xmlns:xlink=\"http://www.w3.org/1999/xlink\">\n<g id=\"graph0\" class=\"graph\" transform=\"scale(1 1) rotate(0) translate(4 786)\">\n<title>%3</title>\n<polygon fill=\"white\" stroke=\"transparent\" points=\"-4,4 -4,-786 393.5,-786 393.5,4 -4,4\"/>\n<!-- 135435664196624 -->\n<g id=\"node1\" class=\"node\">\n<title>135435664196624</title>\n<polygon fill=\"none\" stroke=\"black\" points=\"44.5,-356.5 44.5,-425.5 126.5,-425.5 126.5,-356.5 44.5,-356.5\"/>\n<text text-anchor=\"middle\" x=\"85.5\" y=\"-410.3\" font-family=\"Times,serif\" font-size=\"14.00\">b</text>\n<polyline fill=\"none\" stroke=\"black\" points=\"44.5,-402.5 126.5,-402.5 \"/>\n<text text-anchor=\"middle\" x=\"85.5\" y=\"-387.3\" font-family=\"Times,serif\" font-size=\"14.00\">data 6.8814</text>\n<polyline fill=\"none\" stroke=\"black\" points=\"44.5,-379.5 126.5,-379.5 \"/>\n<text text-anchor=\"middle\" x=\"85.5\" y=\"-364.3\" font-family=\"Times,serif\" font-size=\"14.00\">grad 0.5000</text>\n</g>\n<!-- 135435664206160+ -->\n<g id=\"node10\" class=\"node\">\n<title>135435664206160+</title>\n<ellipse fill=\"none\" stroke=\"black\" cx=\"141.5\" cy=\"-302\" rx=\"27\" ry=\"18\"/>\n<text text-anchor=\"middle\" x=\"141.5\" y=\"-298.3\" font-family=\"Times,serif\" font-size=\"14.00\">+</text>\n</g>\n<!-- 135435664196624&#45;&gt;135435664206160+ -->\n<g id=\"edge7\" class=\"edge\">\n<title>135435664196624&#45;&gt;135435664206160+</title>\n<path fill=\"none\" stroke=\"black\" d=\"M107.31,-356.11C113.42,-346.62 119.94,-336.49 125.63,-327.65\"/>\n<polygon fill=\"black\" stroke=\"black\" points=\"128.74,-329.28 131.21,-318.98 122.86,-325.49 128.74,-329.28\"/>\n</g>\n<!-- 135435664203792 -->\n<g id=\"node2\" class=\"node\">\n<title>135435664203792</title>\n<polygon fill=\"none\" stroke=\"black\" points=\"207.5,-712.5 207.5,-781.5 289.5,-781.5 289.5,-712.5 207.5,-712.5\"/>\n<text text-anchor=\"middle\" x=\"248.5\" y=\"-766.3\" font-family=\"Times,serif\" font-size=\"14.00\">x2</text>\n<polyline fill=\"none\" stroke=\"black\" points=\"207.5,-758.5 289.5,-758.5 \"/>\n<text text-anchor=\"middle\" x=\"248.5\" y=\"-743.3\" font-family=\"Times,serif\" font-size=\"14.00\">data 0.0000</text>\n<polyline fill=\"none\" stroke=\"black\" points=\"207.5,-735.5 289.5,-735.5 \"/>\n<text text-anchor=\"middle\" x=\"248.5\" y=\"-720.3\" font-family=\"Times,serif\" font-size=\"14.00\">grad 0.5000</text>\n</g>\n<!-- 135435664198928* -->\n<g id=\"node8\" class=\"node\">\n<title>135435664198928*</title>\n<ellipse fill=\"none\" stroke=\"black\" cx=\"248.5\" cy=\"-658\" rx=\"27\" ry=\"18\"/>\n<text text-anchor=\"middle\" x=\"248.5\" y=\"-654.3\" font-family=\"Times,serif\" font-size=\"14.00\">*</text>\n</g>\n<!-- 135435664203792&#45;&gt;135435664198928* -->\n<g id=\"edge11\" class=\"edge\">\n<title>135435664203792&#45;&gt;135435664198928*</title>\n<path fill=\"none\" stroke=\"black\" d=\"M248.5,-712.11C248.5,-703.62 248.5,-694.61 248.5,-686.48\"/>\n<polygon fill=\"black\" stroke=\"black\" points=\"252,-686.4 248.5,-676.4 245,-686.4 252,-686.4\"/>\n</g>\n<!-- 135435664201872 -->\n<g id=\"node3\" class=\"node\">\n<title>135435664201872</title>\n<polygon fill=\"none\" stroke=\"black\" points=\"104,-534.5 104,-603.5 189,-603.5 189,-534.5 104,-534.5\"/>\n<text text-anchor=\"middle\" x=\"146.5\" y=\"-588.3\" font-family=\"Times,serif\" font-size=\"14.00\">x1*w1</text>\n<polyline fill=\"none\" stroke=\"black\" points=\"104,-580.5 189,-580.5 \"/>\n<text text-anchor=\"middle\" x=\"146.5\" y=\"-565.3\" font-family=\"Times,serif\" font-size=\"14.00\">data &#45;6.0000</text>\n<polyline fill=\"none\" stroke=\"black\" points=\"104,-557.5 189,-557.5 \"/>\n<text text-anchor=\"middle\" x=\"146.5\" y=\"-542.3\" font-family=\"Times,serif\" font-size=\"14.00\">grad 0.5000</text>\n</g>\n<!-- 135435664204752+ -->\n<g id=\"node15\" class=\"node\">\n<title>135435664204752+</title>\n<ellipse fill=\"none\" stroke=\"black\" cx=\"197.5\" cy=\"-480\" rx=\"27\" ry=\"18\"/>\n<text text-anchor=\"middle\" x=\"197.5\" y=\"-476.3\" font-family=\"Times,serif\" font-size=\"14.00\">+</text>\n</g>\n<!-- 135435664201872&#45;&gt;135435664204752+ -->\n<g id=\"edge6\" class=\"edge\">\n<title>135435664201872&#45;&gt;135435664204752+</title>\n<path fill=\"none\" stroke=\"black\" d=\"M166.36,-534.11C171.93,-524.62 177.87,-514.49 183.05,-505.65\"/>\n<polygon fill=\"black\" stroke=\"black\" points=\"186.1,-507.38 188.13,-496.98 180.06,-503.84 186.1,-507.38\"/>\n</g>\n<!-- 135435664201872* -->\n<g id=\"node4\" class=\"node\">\n<title>135435664201872*</title>\n<ellipse fill=\"none\" stroke=\"black\" cx=\"146.5\" cy=\"-658\" rx=\"27\" ry=\"18\"/>\n<text text-anchor=\"middle\" x=\"146.5\" y=\"-654.3\" font-family=\"Times,serif\" font-size=\"14.00\">*</text>\n</g>\n<!-- 135435664201872*&#45;&gt;135435664201872 -->\n<g id=\"edge1\" class=\"edge\">\n<title>135435664201872*&#45;&gt;135435664201872</title>\n<path fill=\"none\" stroke=\"black\" d=\"M146.5,-639.81C146.5,-632.33 146.5,-623.18 146.5,-614\"/>\n<polygon fill=\"black\" stroke=\"black\" points=\"150,-613.71 146.5,-603.71 143,-613.71 150,-613.71\"/>\n</g>\n<!-- 135435664205008 -->\n<g id=\"node5\" class=\"node\">\n<title>135435664205008</title>\n<polygon fill=\"none\" stroke=\"black\" points=\"307.5,-712.5 307.5,-781.5 389.5,-781.5 389.5,-712.5 307.5,-712.5\"/>\n<text text-anchor=\"middle\" x=\"348.5\" y=\"-766.3\" font-family=\"Times,serif\" font-size=\"14.00\">w2</text>\n<polyline fill=\"none\" stroke=\"black\" points=\"307.5,-758.5 389.5,-758.5 \"/>\n<text text-anchor=\"middle\" x=\"348.5\" y=\"-743.3\" font-family=\"Times,serif\" font-size=\"14.00\">data 1.0000</text>\n<polyline fill=\"none\" stroke=\"black\" points=\"307.5,-735.5 389.5,-735.5 \"/>\n<text text-anchor=\"middle\" x=\"348.5\" y=\"-720.3\" font-family=\"Times,serif\" font-size=\"14.00\">grad 0.0000</text>\n</g>\n<!-- 135435664205008&#45;&gt;135435664198928* -->\n<g id=\"edge12\" class=\"edge\">\n<title>135435664205008&#45;&gt;135435664198928*</title>\n<path fill=\"none\" stroke=\"black\" d=\"M309.84,-712.36C297.1,-701.28 283.33,-689.3 272.06,-679.5\"/>\n<polygon fill=\"black\" stroke=\"black\" points=\"274.2,-676.72 264.36,-672.8 269.61,-682 274.2,-676.72\"/>\n</g>\n<!-- 135435664209680 -->\n<g id=\"node6\" class=\"node\">\n<title>135435664209680</title>\n<polygon fill=\"none\" stroke=\"black\" points=\"0,-712.5 0,-781.5 85,-781.5 85,-712.5 0,-712.5\"/>\n<text text-anchor=\"middle\" x=\"42.5\" y=\"-766.3\" font-family=\"Times,serif\" font-size=\"14.00\">w1</text>\n<polyline fill=\"none\" stroke=\"black\" points=\"0,-758.5 85,-758.5 \"/>\n<text text-anchor=\"middle\" x=\"42.5\" y=\"-743.3\" font-family=\"Times,serif\" font-size=\"14.00\">data &#45;3.0000</text>\n<polyline fill=\"none\" stroke=\"black\" points=\"0,-735.5 85,-735.5 \"/>\n<text text-anchor=\"middle\" x=\"42.5\" y=\"-720.3\" font-family=\"Times,serif\" font-size=\"14.00\">grad 1.0000</text>\n</g>\n<!-- 135435664209680&#45;&gt;135435664201872* -->\n<g id=\"edge8\" class=\"edge\">\n<title>135435664209680&#45;&gt;135435664201872*</title>\n<path fill=\"none\" stroke=\"black\" d=\"M82.71,-712.36C96.18,-701.1 110.76,-688.9 122.58,-679.01\"/>\n<polygon fill=\"black\" stroke=\"black\" points=\"124.85,-681.68 130.27,-672.58 120.35,-676.31 124.85,-681.68\"/>\n</g>\n<!-- 135435664198928 -->\n<g id=\"node7\" class=\"node\">\n<title>135435664198928</title>\n<polygon fill=\"none\" stroke=\"black\" points=\"207.5,-534.5 207.5,-603.5 289.5,-603.5 289.5,-534.5 207.5,-534.5\"/>\n<text text-anchor=\"middle\" x=\"248.5\" y=\"-588.3\" font-family=\"Times,serif\" font-size=\"14.00\">x2*w2</text>\n<polyline fill=\"none\" stroke=\"black\" points=\"207.5,-580.5 289.5,-580.5 \"/>\n<text text-anchor=\"middle\" x=\"248.5\" y=\"-565.3\" font-family=\"Times,serif\" font-size=\"14.00\">data 0.0000</text>\n<polyline fill=\"none\" stroke=\"black\" points=\"207.5,-557.5 289.5,-557.5 \"/>\n<text text-anchor=\"middle\" x=\"248.5\" y=\"-542.3\" font-family=\"Times,serif\" font-size=\"14.00\">grad 0.5000</text>\n</g>\n<!-- 135435664198928&#45;&gt;135435664204752+ -->\n<g id=\"edge10\" class=\"edge\">\n<title>135435664198928&#45;&gt;135435664204752+</title>\n<path fill=\"none\" stroke=\"black\" d=\"M228.64,-534.11C223.07,-524.62 217.13,-514.49 211.95,-505.65\"/>\n<polygon fill=\"black\" stroke=\"black\" points=\"214.94,-503.84 206.87,-496.98 208.9,-507.38 214.94,-503.84\"/>\n</g>\n<!-- 135435664198928*&#45;&gt;135435664198928 -->\n<g id=\"edge2\" class=\"edge\">\n<title>135435664198928*&#45;&gt;135435664198928</title>\n<path fill=\"none\" stroke=\"black\" d=\"M248.5,-639.81C248.5,-632.33 248.5,-623.18 248.5,-614\"/>\n<polygon fill=\"black\" stroke=\"black\" points=\"252,-613.71 248.5,-603.71 245,-613.71 252,-613.71\"/>\n</g>\n<!-- 135435664206160 -->\n<g id=\"node9\" class=\"node\">\n<title>135435664206160</title>\n<polygon fill=\"none\" stroke=\"black\" points=\"100.5,-178.5 100.5,-247.5 182.5,-247.5 182.5,-178.5 100.5,-178.5\"/>\n<text text-anchor=\"middle\" x=\"141.5\" y=\"-232.3\" font-family=\"Times,serif\" font-size=\"14.00\">n</text>\n<polyline fill=\"none\" stroke=\"black\" points=\"100.5,-224.5 182.5,-224.5 \"/>\n<text text-anchor=\"middle\" x=\"141.5\" y=\"-209.3\" font-family=\"Times,serif\" font-size=\"14.00\">data 0.8814</text>\n<polyline fill=\"none\" stroke=\"black\" points=\"100.5,-201.5 182.5,-201.5 \"/>\n<text text-anchor=\"middle\" x=\"141.5\" y=\"-186.3\" font-family=\"Times,serif\" font-size=\"14.00\">grad 0.5000</text>\n</g>\n<!-- 135435664198544tanh -->\n<g id=\"node13\" class=\"node\">\n<title>135435664198544tanh</title>\n<ellipse fill=\"none\" stroke=\"black\" cx=\"141.5\" cy=\"-124\" rx=\"27\" ry=\"18\"/>\n<text text-anchor=\"middle\" x=\"141.5\" y=\"-120.3\" font-family=\"Times,serif\" font-size=\"14.00\">tanh</text>\n</g>\n<!-- 135435664206160&#45;&gt;135435664198544tanh -->\n<g id=\"edge13\" class=\"edge\">\n<title>135435664206160&#45;&gt;135435664198544tanh</title>\n<path fill=\"none\" stroke=\"black\" d=\"M141.5,-178.11C141.5,-169.62 141.5,-160.61 141.5,-152.48\"/>\n<polygon fill=\"black\" stroke=\"black\" points=\"145,-152.4 141.5,-142.4 138,-152.4 145,-152.4\"/>\n</g>\n<!-- 135435664206160+&#45;&gt;135435664206160 -->\n<g id=\"edge3\" class=\"edge\">\n<title>135435664206160+&#45;&gt;135435664206160</title>\n<path fill=\"none\" stroke=\"black\" d=\"M141.5,-283.81C141.5,-276.33 141.5,-267.18 141.5,-258\"/>\n<polygon fill=\"black\" stroke=\"black\" points=\"145,-257.71 141.5,-247.71 138,-257.71 145,-257.71\"/>\n</g>\n<!-- 135435664209744 -->\n<g id=\"node11\" class=\"node\">\n<title>135435664209744</title>\n<polygon fill=\"none\" stroke=\"black\" points=\"103.5,-712.5 103.5,-781.5 189.5,-781.5 189.5,-712.5 103.5,-712.5\"/>\n<text text-anchor=\"middle\" x=\"146.5\" y=\"-766.3\" font-family=\"Times,serif\" font-size=\"14.00\">x1</text>\n<polyline fill=\"none\" stroke=\"black\" points=\"103.5,-758.5 189.5,-758.5 \"/>\n<text text-anchor=\"middle\" x=\"146.5\" y=\"-743.3\" font-family=\"Times,serif\" font-size=\"14.00\">data 2.0000</text>\n<polyline fill=\"none\" stroke=\"black\" points=\"103.5,-735.5 189.5,-735.5 \"/>\n<text text-anchor=\"middle\" x=\"146.5\" y=\"-720.3\" font-family=\"Times,serif\" font-size=\"14.00\">grad &#45;1.5000</text>\n</g>\n<!-- 135435664209744&#45;&gt;135435664201872* -->\n<g id=\"edge9\" class=\"edge\">\n<title>135435664209744&#45;&gt;135435664201872*</title>\n<path fill=\"none\" stroke=\"black\" d=\"M146.5,-712.11C146.5,-703.62 146.5,-694.61 146.5,-686.48\"/>\n<polygon fill=\"black\" stroke=\"black\" points=\"150,-686.4 146.5,-676.4 143,-686.4 150,-686.4\"/>\n</g>\n<!-- 135435664198544 -->\n<g id=\"node12\" class=\"node\">\n<title>135435664198544</title>\n<polygon fill=\"none\" stroke=\"black\" points=\"100.5,-0.5 100.5,-69.5 182.5,-69.5 182.5,-0.5 100.5,-0.5\"/>\n<text text-anchor=\"middle\" x=\"141.5\" y=\"-54.3\" font-family=\"Times,serif\" font-size=\"14.00\">output</text>\n<polyline fill=\"none\" stroke=\"black\" points=\"100.5,-46.5 182.5,-46.5 \"/>\n<text text-anchor=\"middle\" x=\"141.5\" y=\"-31.3\" font-family=\"Times,serif\" font-size=\"14.00\">data 0.7071</text>\n<polyline fill=\"none\" stroke=\"black\" points=\"100.5,-23.5 182.5,-23.5 \"/>\n<text text-anchor=\"middle\" x=\"141.5\" y=\"-8.3\" font-family=\"Times,serif\" font-size=\"14.00\">grad 1.0000</text>\n</g>\n<!-- 135435664198544tanh&#45;&gt;135435664198544 -->\n<g id=\"edge4\" class=\"edge\">\n<title>135435664198544tanh&#45;&gt;135435664198544</title>\n<path fill=\"none\" stroke=\"black\" d=\"M141.5,-105.81C141.5,-98.33 141.5,-89.18 141.5,-80\"/>\n<polygon fill=\"black\" stroke=\"black\" points=\"145,-79.71 141.5,-69.71 138,-79.71 145,-79.71\"/>\n</g>\n<!-- 135435664204752 -->\n<g id=\"node14\" class=\"node\">\n<title>135435664204752</title>\n<polygon fill=\"none\" stroke=\"black\" points=\"144.5,-356.5 144.5,-425.5 250.5,-425.5 250.5,-356.5 144.5,-356.5\"/>\n<text text-anchor=\"middle\" x=\"197.5\" y=\"-410.3\" font-family=\"Times,serif\" font-size=\"14.00\">x1*w1 + x2*w2</text>\n<polyline fill=\"none\" stroke=\"black\" points=\"144.5,-402.5 250.5,-402.5 \"/>\n<text text-anchor=\"middle\" x=\"197.5\" y=\"-387.3\" font-family=\"Times,serif\" font-size=\"14.00\">data &#45;6.0000</text>\n<polyline fill=\"none\" stroke=\"black\" points=\"144.5,-379.5 250.5,-379.5 \"/>\n<text text-anchor=\"middle\" x=\"197.5\" y=\"-364.3\" font-family=\"Times,serif\" font-size=\"14.00\">grad 0.5000</text>\n</g>\n<!-- 135435664204752&#45;&gt;135435664206160+ -->\n<g id=\"edge14\" class=\"edge\">\n<title>135435664204752&#45;&gt;135435664206160+</title>\n<path fill=\"none\" stroke=\"black\" d=\"M175.69,-356.11C169.58,-346.62 163.06,-336.49 157.37,-327.65\"/>\n<polygon fill=\"black\" stroke=\"black\" points=\"160.14,-325.49 151.79,-318.98 154.26,-329.28 160.14,-325.49\"/>\n</g>\n<!-- 135435664204752+&#45;&gt;135435664204752 -->\n<g id=\"edge5\" class=\"edge\">\n<title>135435664204752+&#45;&gt;135435664204752</title>\n<path fill=\"none\" stroke=\"black\" d=\"M197.5,-461.81C197.5,-454.33 197.5,-445.18 197.5,-436\"/>\n<polygon fill=\"black\" stroke=\"black\" points=\"201,-435.71 197.5,-425.71 194,-435.71 201,-435.71\"/>\n</g>\n</g>\n</svg>\n",
            "text/plain": [
              "<graphviz.graphs.Digraph at 0x7b2d92d1e850>"
            ]
          },
          "metadata": {},
          "execution_count": 113
        }
      ]
    },
    {
      "cell_type": "code",
      "source": [
        "o.backward()"
      ],
      "metadata": {
        "id": "9BzeWWCG5DjY"
      },
      "execution_count": 112,
      "outputs": []
    },
    {
      "cell_type": "code",
      "source": [
        "x1 = Value(2.0, label = 'x1')\n",
        "x2 = Value(0.0, label = 'x2')\n",
        "\n",
        "w1 = Value(-3.0, label='w1')\n",
        "w2 = Value(1.0, label='w2')\n",
        "b = Value(6.8813735870195432, label='b')\n",
        "\n",
        "x1w1 = x1*w1; x1w1.label='x1*w1'\n",
        "x2w2 = x2*w2; x2w2.label='x2*w2'\n",
        "x1w1x2w2 = x1w1 + x2w2; x1w1x2w2.label='x1*w1 + x2*w2'\n",
        "n = x1w1x2w2 + b; n.label = 'n'\n",
        "# _________\n",
        "e = (2*n).exp()\n",
        "o = (e-1)/(e+1); o.label = 'output'\n",
        "# ___________\n",
        "o.backward()\n",
        "draw_dot(o)"
      ],
      "metadata": {
        "id": "U0cR21PByU3o"
      },
      "execution_count": null,
      "outputs": []
    },
    {
      "cell_type": "code",
      "source": [
        "import torch"
      ],
      "metadata": {
        "id": "RPzdr48ZR7RX"
      },
      "execution_count": 115,
      "outputs": []
    },
    {
      "cell_type": "code",
      "source": [
        "\n",
        "x1 = torch.Tensor([2.0]).double()           ; x1.requires_grad = True\n",
        "x2 = torch.Tensor([0.0]).double()           ; x2.requires_grad = True\n",
        "w1 = torch.Tensor([-3.0]).double()          ; w1.requires_grad = True\n",
        "w2 = torch.Tensor([1.0]).double()           ; w2.requires_grad = True\n",
        "b = torch.Tensor([6.8813735870195432]).double(); b.requires_grad = True\n",
        "\n",
        "n = x1*w1+x2*w2 + b\n",
        "o = torch.tanh(n)\n",
        "o.backward()\n",
        "\n",
        "print(o.item())\n",
        "\n",
        "print(\"_______\")\n",
        "print('x1', x1.grad.item())\n",
        "print('w1', w1.grad.item())\n",
        "print('x1', x2.grad.item())\n",
        "print('w1', w2.grad.item())"
      ],
      "metadata": {
        "colab": {
          "base_uri": "https://localhost:8080/"
        },
        "id": "BXS_6ezOZQDJ",
        "outputId": "aa0c23e0-8d33-4564-aac7-7a7369c9ed96"
      },
      "execution_count": 116,
      "outputs": [
        {
          "output_type": "stream",
          "name": "stdout",
          "text": [
            "0.7071066904050358\n",
            "_______\n",
            "x1 -1.5000003851533106\n",
            "w1 1.0000002567688737\n",
            "x1 0.5000001283844369\n",
            "w1 0.0\n"
          ]
        }
      ]
    },
    {
      "cell_type": "code",
      "source": [
        "import random"
      ],
      "metadata": {
        "id": "6SbVrETBbu2K"
      },
      "execution_count": 8,
      "outputs": []
    },
    {
      "cell_type": "code",
      "source": [
        "class Neuron:\n",
        "  def __init__(self, nin):\n",
        "    self.w = [Value(random.uniform(-1, 1)) for _ in range(nin)]\n",
        "    self.b = Value(random.uniform(-1, 1))\n",
        "\n",
        "  def __call__(self, x):\n",
        "    # w*x + b\n",
        "    act = sum((xi*wi for wi, xi in zip(self.w, x)), self.b)\n",
        "    out = act.tanh()\n",
        "    return out\n",
        "\n",
        "  def parameters(self):\n",
        "    return self.w + [self.b]\n",
        "\n",
        "class Layer:\n",
        "  def __init__(self, nin, nout):\n",
        "    self.neurons = [Neuron(nin) for _ in range(nout)]\n",
        "\n",
        "  def __call__(self, x):\n",
        "    outs = [n(x) for n in self.neurons]\n",
        "    return outs[0] if len(outs)==1 else outs\n",
        "\n",
        "  def parameters(self):\n",
        "    return [p for neuron in self.neurons for p in neuron.parameters()]\n",
        "\n",
        "class MLP:\n",
        "  def __init__(self, nin, nouts):\n",
        "    sz = [nin] + nouts\n",
        "    self.layers = [Layer(sz[i], sz[i+1]) for i in range(len(nouts))]\n",
        "\n",
        "  def __call__(self, x):\n",
        "    for layers in self.layers:\n",
        "      x = layers(x)\n",
        "    return x\n",
        "\n",
        "  def parameters(self):\n",
        "    return [p for layer in self.layers for p in layer.parameters()]\n"
      ],
      "metadata": {
        "id": "-J3OBK53egEB"
      },
      "execution_count": 4,
      "outputs": []
    },
    {
      "cell_type": "code",
      "source": [
        "x = [2.0, 3.0, -1.0]\n",
        "n = MLP(3, [4, 4, 1])\n",
        "y = n(x)"
      ],
      "metadata": {
        "id": "YZzPRbwo3wKv"
      },
      "execution_count": 120,
      "outputs": []
    },
    {
      "cell_type": "code",
      "source": [
        "y.backward()"
      ],
      "metadata": {
        "id": "ODx7VLq9QSa4"
      },
      "execution_count": 121,
      "outputs": []
    },
    {
      "cell_type": "code",
      "source": [
        "len(n.parameters())"
      ],
      "metadata": {
        "colab": {
          "base_uri": "https://localhost:8080/"
        },
        "id": "_LjMnRaX32fk",
        "outputId": "8c724718-201c-4e60-8b8f-848712b6af61"
      },
      "execution_count": 118,
      "outputs": [
        {
          "output_type": "execute_result",
          "data": {
            "text/plain": [
              "41"
            ]
          },
          "metadata": {},
          "execution_count": 118
        }
      ]
    },
    {
      "cell_type": "code",
      "source": [
        "draw_dot(n(x))"
      ],
      "metadata": {
        "id": "Yx4bE0ntkMbE"
      },
      "execution_count": null,
      "outputs": []
    },
    {
      "cell_type": "code",
      "source": [
        "xs = [[2.0, 3.0, -1.0],\n",
        "      [3.0,  -1.0, 0.5],\n",
        "      [0.5, 1.0, 1.0],\n",
        "      [1.0, 1.0, -1.0]]\n",
        "ys = [1.0, -1.0, -1.0, 1.0]"
      ],
      "metadata": {
        "id": "leqT22BwkPrl"
      },
      "execution_count": 97,
      "outputs": []
    },
    {
      "cell_type": "code",
      "source": [
        "EPOCH = 50\n",
        "LR = 0.05\n",
        "for k in range(EPOCH):\n",
        "  #forward pass\n",
        "  ypred = [n(x) for x in xs]\n",
        "  loss = sum((yout - ygt)**2 for ygt, yout in zip(ys, ypred))\n",
        "\n",
        "  #backward pass\n",
        "  # clear out the existing grads, as they are no longer needed for next backward pass\n",
        "  # we are only dealing with data here,\n",
        "  for p in n.parameters():\n",
        "    p.grad =  0.0\n",
        "  loss.backward()\n",
        "\n",
        "  #update(grad desc)\n",
        "  # and now as the grads get accumulated, we dont want them to add it to previous obsolete grads\n",
        "  # instead these are fresh sets of grads so it shoudl be added to 0s\n",
        "  for p in n.parameters():\n",
        "    p.data += -LR * p.grad\n",
        "\n",
        "  print(k, loss.data)\n"
      ],
      "metadata": {
        "colab": {
          "base_uri": "https://localhost:8080/"
        },
        "id": "CxdpBOPZ6-It",
        "outputId": "643fc77d-f222-4cf4-e469-aed505979ff1"
      },
      "execution_count": 108,
      "outputs": [
        {
          "output_type": "stream",
          "name": "stdout",
          "text": [
            "0 0.005721869163875541\n",
            "1 0.005690993401144348\n",
            "2 0.005660430995614073\n",
            "3 0.0056301773112149445\n",
            "4 0.005600227801669461\n",
            "5 0.005570578008348226\n",
            "6 0.005541223558186361\n",
            "7 0.005512160161658929\n",
            "8 0.005483383610813119\n",
            "9 0.005454889777355306\n",
            "10 0.005426674610791535\n",
            "11 0.005398734136619513\n",
            "12 0.0053710644545702235\n",
            "13 0.0053436617368981705\n",
            "14 0.005316522226718081\n",
            "15 0.005289642236387008\n",
            "16 0.005263018145930408\n",
            "17 0.0052366464015102905\n",
            "18 0.005210523513935049\n",
            "19 0.005184646057208671\n",
            "20 0.005159010667118962\n",
            "21 0.00513361403986295\n",
            "22 0.005108452930708772\n",
            "23 0.005083524152692678\n",
            "24 0.005058824575350127\n",
            "25 0.005034351123479997\n",
            "26 0.00501010077594099\n",
            "27 0.004986070564478911\n",
            "28 0.004962257572584516\n",
            "29 0.004938658934380332\n",
            "30 0.0049152718335358885\n",
            "31 0.0048920935022110194\n",
            "32 0.004869121220025287\n",
            "33 0.004846352313053848\n",
            "34 0.004823784152848483\n",
            "35 0.0048014141554828605\n",
            "36 0.004779239780622084\n",
            "37 0.004757258530614779\n",
            "38 0.004735467949608139\n",
            "39 0.0047138656226844745\n",
            "40 0.004692449175018965\n",
            "41 0.004671216271058083\n",
            "42 0.004650164613717976\n",
            "43 0.0046292919436023185\n",
            "44 0.00460859603823895\n",
            "45 0.004588074711335042\n",
            "46 0.004567725812049962\n",
            "47 0.0045475472242855535\n",
            "48 0.004527536865993349\n",
            "49 0.004507692688498083\n"
          ]
        }
      ]
    },
    {
      "cell_type": "code",
      "source": [
        "ypred"
      ],
      "metadata": {
        "colab": {
          "base_uri": "https://localhost:8080/"
        },
        "id": "OJw-6dAoD5wR",
        "outputId": "de55f45f-4cfb-4022-e4d6-612dfa263f36"
      },
      "execution_count": 109,
      "outputs": [
        {
          "output_type": "execute_result",
          "data": {
            "text/plain": [
              "[Value(data=0.9789595083592437, grad=-0.04208098328151255),\n",
              " Value(data=-0.9697375742960158, grad=0.06052485140796837),\n",
              " Value(data=-0.9584149112077817, grad=0.08317017758443668),\n",
              " Value(data=0.9623190183160324, grad=-0.07536196336793521)]"
            ]
          },
          "metadata": {},
          "execution_count": 109
        }
      ]
    },
    {
      "cell_type": "code",
      "source": [],
      "metadata": {
        "id": "AhsilE_3FId9"
      },
      "execution_count": null,
      "outputs": []
    }
  ]
}